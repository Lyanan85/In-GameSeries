{
  "cells": [
    {
      "cell_type": "markdown",
      "metadata": {
        "id": "view-in-github",
        "colab_type": "text"
      },
      "source": [
        "<a href=\"https://colab.research.google.com/github/Lyanan85/In-GameSeries/blob/venv/projeot1.ipynb\" target=\"_parent\"><img src=\"https://colab.research.google.com/assets/colab-badge.svg\" alt=\"Open In Colab\"/></a>"
      ]
    },
    {
      "cell_type": "markdown",
      "metadata": {
        "id": "L5znN40TjEM3"
      },
      "source": [
        "# Analise de casos de saúde em estados americanos entre 2015 e 2016\n",
        "## analise com insights\n",
        " material de estudo"
      ]
    },
    {
      "cell_type": "markdown",
      "metadata": {
        "id": "uGoswVy9jEM4"
      },
      "source": [
        "## Importando bibliotecas importantes e a tabela original"
      ]
    },
    {
      "cell_type": "code",
      "execution_count": null,
      "metadata": {
        "id": "_Q-JrCikjEM4",
        "outputId": "03cca34e-605e-435a-f30e-6238fd7806b9"
      },
      "outputs": [
        {
          "data": {
            "text/html": [
              "<div>\n",
              "<style scoped>\n",
              "    .dataframe tbody tr th:only-of-type {\n",
              "        vertical-align: middle;\n",
              "    }\n",
              "\n",
              "    .dataframe tbody tr th {\n",
              "        vertical-align: top;\n",
              "    }\n",
              "\n",
              "    .dataframe thead th {\n",
              "        text-align: right;\n",
              "    }\n",
              "</style>\n",
              "<table border=\"1\" class=\"dataframe\">\n",
              "  <thead>\n",
              "    <tr style=\"text-align: right;\">\n",
              "      <th></th>\n",
              "      <th>Year</th>\n",
              "      <th>StateAbbr</th>\n",
              "      <th>StateDesc</th>\n",
              "      <th>CityName</th>\n",
              "      <th>GeographicLevel</th>\n",
              "      <th>DataSource</th>\n",
              "      <th>Category</th>\n",
              "      <th>UniqueID</th>\n",
              "      <th>Measure</th>\n",
              "      <th>Data_Value_Unit</th>\n",
              "      <th>...</th>\n",
              "      <th>High_Confidence_Limit</th>\n",
              "      <th>Data_Value_Footnote_Symbol</th>\n",
              "      <th>Data_Value_Footnote</th>\n",
              "      <th>PopulationCount</th>\n",
              "      <th>Geolocation</th>\n",
              "      <th>CategoryID</th>\n",
              "      <th>MeasureId</th>\n",
              "      <th>CityFIPS</th>\n",
              "      <th>TractFIPS</th>\n",
              "      <th>Short_Question_Text</th>\n",
              "    </tr>\n",
              "  </thead>\n",
              "  <tbody>\n",
              "    <tr>\n",
              "      <th>0</th>\n",
              "      <td>2015</td>\n",
              "      <td>IN</td>\n",
              "      <td>Indiana</td>\n",
              "      <td>Fishers</td>\n",
              "      <td>City</td>\n",
              "      <td>BRFSS</td>\n",
              "      <td>Health Outcomes</td>\n",
              "      <td>1823278</td>\n",
              "      <td>High blood pressure among adults aged &gt;=18 Years</td>\n",
              "      <td>%</td>\n",
              "      <td>...</td>\n",
              "      <td>24.7</td>\n",
              "      <td>NaN</td>\n",
              "      <td>NaN</td>\n",
              "      <td>76794</td>\n",
              "      <td>POINT (-85.969310702 39.9587635263)</td>\n",
              "      <td>HLTHOUT</td>\n",
              "      <td>BPHIGH</td>\n",
              "      <td>1823278.0</td>\n",
              "      <td>NaN</td>\n",
              "      <td>High Blood Pressure</td>\n",
              "    </tr>\n",
              "    <tr>\n",
              "      <th>1</th>\n",
              "      <td>2015</td>\n",
              "      <td>CA</td>\n",
              "      <td>California</td>\n",
              "      <td>Milpitas</td>\n",
              "      <td>City</td>\n",
              "      <td>BRFSS</td>\n",
              "      <td>Health Outcomes</td>\n",
              "      <td>0647766</td>\n",
              "      <td>High blood pressure among adults aged &gt;=18 Years</td>\n",
              "      <td>%</td>\n",
              "      <td>...</td>\n",
              "      <td>22.5</td>\n",
              "      <td>NaN</td>\n",
              "      <td>NaN</td>\n",
              "      <td>66790</td>\n",
              "      <td>POINT (-121.892083025 37.433869763)</td>\n",
              "      <td>HLTHOUT</td>\n",
              "      <td>BPHIGH</td>\n",
              "      <td>647766.0</td>\n",
              "      <td>NaN</td>\n",
              "      <td>High Blood Pressure</td>\n",
              "    </tr>\n",
              "    <tr>\n",
              "      <th>2</th>\n",
              "      <td>2015</td>\n",
              "      <td>CT</td>\n",
              "      <td>Connecticut</td>\n",
              "      <td>Stamford</td>\n",
              "      <td>City</td>\n",
              "      <td>BRFSS</td>\n",
              "      <td>Health Outcomes</td>\n",
              "      <td>0973000</td>\n",
              "      <td>High blood pressure among adults aged &gt;=18 Years</td>\n",
              "      <td>%</td>\n",
              "      <td>...</td>\n",
              "      <td>26.2</td>\n",
              "      <td>NaN</td>\n",
              "      <td>NaN</td>\n",
              "      <td>122643</td>\n",
              "      <td>POINT (-73.5589363142 41.1049145013)</td>\n",
              "      <td>HLTHOUT</td>\n",
              "      <td>BPHIGH</td>\n",
              "      <td>973000.0</td>\n",
              "      <td>NaN</td>\n",
              "      <td>High Blood Pressure</td>\n",
              "    </tr>\n",
              "    <tr>\n",
              "      <th>3</th>\n",
              "      <td>2015</td>\n",
              "      <td>CA</td>\n",
              "      <td>California</td>\n",
              "      <td>Elk Grove</td>\n",
              "      <td>City</td>\n",
              "      <td>BRFSS</td>\n",
              "      <td>Health Outcomes</td>\n",
              "      <td>0622020</td>\n",
              "      <td>High blood pressure among adults aged &gt;=18 Years</td>\n",
              "      <td>%</td>\n",
              "      <td>...</td>\n",
              "      <td>27.8</td>\n",
              "      <td>NaN</td>\n",
              "      <td>NaN</td>\n",
              "      <td>153015</td>\n",
              "      <td>POINT (-121.384137762 38.4159992006)</td>\n",
              "      <td>HLTHOUT</td>\n",
              "      <td>BPHIGH</td>\n",
              "      <td>622020.0</td>\n",
              "      <td>NaN</td>\n",
              "      <td>High Blood Pressure</td>\n",
              "    </tr>\n",
              "    <tr>\n",
              "      <th>4</th>\n",
              "      <td>2015</td>\n",
              "      <td>FL</td>\n",
              "      <td>Florida</td>\n",
              "      <td>Palm Bay</td>\n",
              "      <td>City</td>\n",
              "      <td>BRFSS</td>\n",
              "      <td>Prevention</td>\n",
              "      <td>1254000</td>\n",
              "      <td>Cholesterol screening among adults aged &gt;=18 Y...</td>\n",
              "      <td>%</td>\n",
              "      <td>...</td>\n",
              "      <td>78.4</td>\n",
              "      <td>NaN</td>\n",
              "      <td>NaN</td>\n",
              "      <td>103190</td>\n",
              "      <td>POINT (-80.6666722846 27.9838255249)</td>\n",
              "      <td>PREVENT</td>\n",
              "      <td>CHOLSCREEN</td>\n",
              "      <td>1254000.0</td>\n",
              "      <td>NaN</td>\n",
              "      <td>Cholesterol Screening</td>\n",
              "    </tr>\n",
              "  </tbody>\n",
              "</table>\n",
              "<p>5 rows × 24 columns</p>\n",
              "</div>"
            ],
            "text/plain": [
              "   Year StateAbbr    StateDesc   CityName GeographicLevel DataSource  \\\n",
              "0  2015        IN      Indiana    Fishers            City      BRFSS   \n",
              "1  2015        CA   California   Milpitas            City      BRFSS   \n",
              "2  2015        CT  Connecticut   Stamford            City      BRFSS   \n",
              "3  2015        CA   California  Elk Grove            City      BRFSS   \n",
              "4  2015        FL      Florida   Palm Bay            City      BRFSS   \n",
              "\n",
              "          Category UniqueID  \\\n",
              "0  Health Outcomes  1823278   \n",
              "1  Health Outcomes  0647766   \n",
              "2  Health Outcomes  0973000   \n",
              "3  Health Outcomes  0622020   \n",
              "4       Prevention  1254000   \n",
              "\n",
              "                                             Measure Data_Value_Unit  ...  \\\n",
              "0   High blood pressure among adults aged >=18 Years               %  ...   \n",
              "1   High blood pressure among adults aged >=18 Years               %  ...   \n",
              "2   High blood pressure among adults aged >=18 Years               %  ...   \n",
              "3   High blood pressure among adults aged >=18 Years               %  ...   \n",
              "4  Cholesterol screening among adults aged >=18 Y...               %  ...   \n",
              "\n",
              "  High_Confidence_Limit Data_Value_Footnote_Symbol  Data_Value_Footnote  \\\n",
              "0                  24.7                        NaN                  NaN   \n",
              "1                  22.5                        NaN                  NaN   \n",
              "2                  26.2                        NaN                  NaN   \n",
              "3                  27.8                        NaN                  NaN   \n",
              "4                  78.4                        NaN                  NaN   \n",
              "\n",
              "   PopulationCount                           Geolocation CategoryID  \\\n",
              "0            76794   POINT (-85.969310702 39.9587635263)    HLTHOUT   \n",
              "1            66790   POINT (-121.892083025 37.433869763)    HLTHOUT   \n",
              "2           122643  POINT (-73.5589363142 41.1049145013)    HLTHOUT   \n",
              "3           153015  POINT (-121.384137762 38.4159992006)    HLTHOUT   \n",
              "4           103190  POINT (-80.6666722846 27.9838255249)    PREVENT   \n",
              "\n",
              "    MeasureId   CityFIPS TractFIPS    Short_Question_Text  \n",
              "0      BPHIGH  1823278.0       NaN    High Blood Pressure  \n",
              "1      BPHIGH   647766.0       NaN    High Blood Pressure  \n",
              "2      BPHIGH   973000.0       NaN    High Blood Pressure  \n",
              "3      BPHIGH   622020.0       NaN    High Blood Pressure  \n",
              "4  CHOLSCREEN  1254000.0       NaN  Cholesterol Screening  \n",
              "\n",
              "[5 rows x 24 columns]"
            ]
          },
          "execution_count": 257,
          "metadata": {},
          "output_type": "execute_result"
        }
      ],
      "source": [
        "import matplotlib.pyplot as plt\n",
        "import pandas as pd\n",
        "import seaborn as sns\n",
        "df1=pd.read_csv(\"500_Cities__Local_Data_for_Better_Health__2018_release.csv\")\n",
        "df1.head()"
      ]
    },
    {
      "cell_type": "markdown",
      "metadata": {
        "id": "bMBlGInWjEM5"
      },
      "source": [
        "## Renomeando colunas da tabela\n"
      ]
    },
    {
      "cell_type": "code",
      "execution_count": null,
      "metadata": {
        "id": "938DjuHejEM5",
        "outputId": "11f6acf6-5e1c-44e4-b94e-6b41803f9207"
      },
      "outputs": [
        {
          "data": {
            "text/html": [
              "<div>\n",
              "<style scoped>\n",
              "    .dataframe tbody tr th:only-of-type {\n",
              "        vertical-align: middle;\n",
              "    }\n",
              "\n",
              "    .dataframe tbody tr th {\n",
              "        vertical-align: top;\n",
              "    }\n",
              "\n",
              "    .dataframe thead th {\n",
              "        text-align: right;\n",
              "    }\n",
              "</style>\n",
              "<table border=\"1\" class=\"dataframe\">\n",
              "  <thead>\n",
              "    <tr style=\"text-align: right;\">\n",
              "      <th></th>\n",
              "      <th>Ano</th>\n",
              "      <th>SiglaEstado</th>\n",
              "      <th>DescricaoEstado</th>\n",
              "      <th>NomeCidade</th>\n",
              "      <th>NivelGeografico</th>\n",
              "      <th>FonteDados</th>\n",
              "      <th>Categoria</th>\n",
              "      <th>IDUnico</th>\n",
              "      <th>Medida</th>\n",
              "      <th>UnidadeValorDados</th>\n",
              "      <th>...</th>\n",
              "      <th>LimiteSuperiorConfianca</th>\n",
              "      <th>SimboloNotaRodapeDados</th>\n",
              "      <th>NotaRodapeDados</th>\n",
              "      <th>ContagemPopulacional</th>\n",
              "      <th>Geolocalizacao</th>\n",
              "      <th>IDCategoria</th>\n",
              "      <th>IDMedida</th>\n",
              "      <th>FIPSCidade</th>\n",
              "      <th>FIPSTrato</th>\n",
              "      <th>TextoCurtoPergunta</th>\n",
              "    </tr>\n",
              "  </thead>\n",
              "  <tbody>\n",
              "    <tr>\n",
              "      <th>0</th>\n",
              "      <td>2015</td>\n",
              "      <td>IN</td>\n",
              "      <td>Indiana</td>\n",
              "      <td>Fishers</td>\n",
              "      <td>City</td>\n",
              "      <td>BRFSS</td>\n",
              "      <td>Health Outcomes</td>\n",
              "      <td>1823278</td>\n",
              "      <td>High blood pressure among adults aged &gt;=18 Years</td>\n",
              "      <td>%</td>\n",
              "      <td>...</td>\n",
              "      <td>24.7</td>\n",
              "      <td>NaN</td>\n",
              "      <td>NaN</td>\n",
              "      <td>76794</td>\n",
              "      <td>POINT (-85.969310702 39.9587635263)</td>\n",
              "      <td>HLTHOUT</td>\n",
              "      <td>BPHIGH</td>\n",
              "      <td>1823278.0</td>\n",
              "      <td>NaN</td>\n",
              "      <td>High Blood Pressure</td>\n",
              "    </tr>\n",
              "    <tr>\n",
              "      <th>1</th>\n",
              "      <td>2015</td>\n",
              "      <td>CA</td>\n",
              "      <td>California</td>\n",
              "      <td>Milpitas</td>\n",
              "      <td>City</td>\n",
              "      <td>BRFSS</td>\n",
              "      <td>Health Outcomes</td>\n",
              "      <td>0647766</td>\n",
              "      <td>High blood pressure among adults aged &gt;=18 Years</td>\n",
              "      <td>%</td>\n",
              "      <td>...</td>\n",
              "      <td>22.5</td>\n",
              "      <td>NaN</td>\n",
              "      <td>NaN</td>\n",
              "      <td>66790</td>\n",
              "      <td>POINT (-121.892083025 37.433869763)</td>\n",
              "      <td>HLTHOUT</td>\n",
              "      <td>BPHIGH</td>\n",
              "      <td>647766.0</td>\n",
              "      <td>NaN</td>\n",
              "      <td>High Blood Pressure</td>\n",
              "    </tr>\n",
              "    <tr>\n",
              "      <th>2</th>\n",
              "      <td>2015</td>\n",
              "      <td>CT</td>\n",
              "      <td>Connecticut</td>\n",
              "      <td>Stamford</td>\n",
              "      <td>City</td>\n",
              "      <td>BRFSS</td>\n",
              "      <td>Health Outcomes</td>\n",
              "      <td>0973000</td>\n",
              "      <td>High blood pressure among adults aged &gt;=18 Years</td>\n",
              "      <td>%</td>\n",
              "      <td>...</td>\n",
              "      <td>26.2</td>\n",
              "      <td>NaN</td>\n",
              "      <td>NaN</td>\n",
              "      <td>122643</td>\n",
              "      <td>POINT (-73.5589363142 41.1049145013)</td>\n",
              "      <td>HLTHOUT</td>\n",
              "      <td>BPHIGH</td>\n",
              "      <td>973000.0</td>\n",
              "      <td>NaN</td>\n",
              "      <td>High Blood Pressure</td>\n",
              "    </tr>\n",
              "    <tr>\n",
              "      <th>3</th>\n",
              "      <td>2015</td>\n",
              "      <td>CA</td>\n",
              "      <td>California</td>\n",
              "      <td>Elk Grove</td>\n",
              "      <td>City</td>\n",
              "      <td>BRFSS</td>\n",
              "      <td>Health Outcomes</td>\n",
              "      <td>0622020</td>\n",
              "      <td>High blood pressure among adults aged &gt;=18 Years</td>\n",
              "      <td>%</td>\n",
              "      <td>...</td>\n",
              "      <td>27.8</td>\n",
              "      <td>NaN</td>\n",
              "      <td>NaN</td>\n",
              "      <td>153015</td>\n",
              "      <td>POINT (-121.384137762 38.4159992006)</td>\n",
              "      <td>HLTHOUT</td>\n",
              "      <td>BPHIGH</td>\n",
              "      <td>622020.0</td>\n",
              "      <td>NaN</td>\n",
              "      <td>High Blood Pressure</td>\n",
              "    </tr>\n",
              "    <tr>\n",
              "      <th>4</th>\n",
              "      <td>2015</td>\n",
              "      <td>FL</td>\n",
              "      <td>Florida</td>\n",
              "      <td>Palm Bay</td>\n",
              "      <td>City</td>\n",
              "      <td>BRFSS</td>\n",
              "      <td>Prevention</td>\n",
              "      <td>1254000</td>\n",
              "      <td>Cholesterol screening among adults aged &gt;=18 Y...</td>\n",
              "      <td>%</td>\n",
              "      <td>...</td>\n",
              "      <td>78.4</td>\n",
              "      <td>NaN</td>\n",
              "      <td>NaN</td>\n",
              "      <td>103190</td>\n",
              "      <td>POINT (-80.6666722846 27.9838255249)</td>\n",
              "      <td>PREVENT</td>\n",
              "      <td>CHOLSCREEN</td>\n",
              "      <td>1254000.0</td>\n",
              "      <td>NaN</td>\n",
              "      <td>Cholesterol Screening</td>\n",
              "    </tr>\n",
              "  </tbody>\n",
              "</table>\n",
              "<p>5 rows × 24 columns</p>\n",
              "</div>"
            ],
            "text/plain": [
              "    Ano SiglaEstado DescricaoEstado NomeCidade NivelGeografico FonteDados  \\\n",
              "0  2015          IN         Indiana    Fishers            City      BRFSS   \n",
              "1  2015          CA      California   Milpitas            City      BRFSS   \n",
              "2  2015          CT     Connecticut   Stamford            City      BRFSS   \n",
              "3  2015          CA      California  Elk Grove            City      BRFSS   \n",
              "4  2015          FL         Florida   Palm Bay            City      BRFSS   \n",
              "\n",
              "         Categoria  IDUnico  \\\n",
              "0  Health Outcomes  1823278   \n",
              "1  Health Outcomes  0647766   \n",
              "2  Health Outcomes  0973000   \n",
              "3  Health Outcomes  0622020   \n",
              "4       Prevention  1254000   \n",
              "\n",
              "                                              Medida UnidadeValorDados  ...  \\\n",
              "0   High blood pressure among adults aged >=18 Years                 %  ...   \n",
              "1   High blood pressure among adults aged >=18 Years                 %  ...   \n",
              "2   High blood pressure among adults aged >=18 Years                 %  ...   \n",
              "3   High blood pressure among adults aged >=18 Years                 %  ...   \n",
              "4  Cholesterol screening among adults aged >=18 Y...                 %  ...   \n",
              "\n",
              "  LimiteSuperiorConfianca SimboloNotaRodapeDados  NotaRodapeDados  \\\n",
              "0                    24.7                    NaN              NaN   \n",
              "1                    22.5                    NaN              NaN   \n",
              "2                    26.2                    NaN              NaN   \n",
              "3                    27.8                    NaN              NaN   \n",
              "4                    78.4                    NaN              NaN   \n",
              "\n",
              "   ContagemPopulacional                        Geolocalizacao IDCategoria  \\\n",
              "0                 76794   POINT (-85.969310702 39.9587635263)     HLTHOUT   \n",
              "1                 66790   POINT (-121.892083025 37.433869763)     HLTHOUT   \n",
              "2                122643  POINT (-73.5589363142 41.1049145013)     HLTHOUT   \n",
              "3                153015  POINT (-121.384137762 38.4159992006)     HLTHOUT   \n",
              "4                103190  POINT (-80.6666722846 27.9838255249)     PREVENT   \n",
              "\n",
              "     IDMedida  FIPSCidade FIPSTrato     TextoCurtoPergunta  \n",
              "0      BPHIGH   1823278.0       NaN    High Blood Pressure  \n",
              "1      BPHIGH    647766.0       NaN    High Blood Pressure  \n",
              "2      BPHIGH    973000.0       NaN    High Blood Pressure  \n",
              "3      BPHIGH    622020.0       NaN    High Blood Pressure  \n",
              "4  CHOLSCREEN   1254000.0       NaN  Cholesterol Screening  \n",
              "\n",
              "[5 rows x 24 columns]"
            ]
          },
          "execution_count": 258,
          "metadata": {},
          "output_type": "execute_result"
        }
      ],
      "source": [
        "# Dicionário de tradução de colunas\n",
        "colunas_traduzidas = {\n",
        "    \"Year\": \"Ano\",\n",
        "    \"StateAbbr\": \"SiglaEstado\",\n",
        "    \"StateDesc\": \"DescricaoEstado\",\n",
        "    \"CityName\": \"NomeCidade\",\n",
        "    \"GeographicLevel\": \"NivelGeografico\",\n",
        "    \"DataSource\": \"FonteDados\",\n",
        "    \"Category\": \"Categoria\",\n",
        "    \"UniqueID\": \"IDUnico\",\n",
        "    \"Measure\": \"Medida\",\n",
        "    \"Data_Value_Unit\": \"UnidadeValorDados\",\n",
        "    \"High_Confidence_Limit\": \"LimiteSuperiorConfianca\",\n",
        "    \"Data_Value_Footnote_Symbol\": \"SimboloNotaRodapeDados\",\n",
        "    \"Data_Value_Footnote\": \"NotaRodapeDados\",\n",
        "    \"PopulationCount\": \"ContagemPopulacional\",\n",
        "    \"Geolocation\": \"Geolocalizacao\",\n",
        "    \"CategoryID\": \"IDCategoria\",\n",
        "    \"MeasureId\": \"IDMedida\",\n",
        "    \"CityFIPS\": \"FIPSCidade\",\n",
        "    \"TractFIPS\": \"FIPSTrato\",\n",
        "    \"Short_Question_Text\": \"TextoCurtoPergunta\"\n",
        "}\n",
        "\n",
        "# Aplicar a tradução das colunas\n",
        "df = df1.rename(columns=colunas_traduzidas)\n",
        "\n",
        "# Exibir o DataFrame com os nomes das colunas traduzidos\n",
        "df.head()\n"
      ]
    },
    {
      "cell_type": "markdown",
      "metadata": {
        "id": "hffmimxjjEM5"
      },
      "source": [
        "## Verificando quais anos a pesquisa se refere:"
      ]
    },
    {
      "cell_type": "code",
      "execution_count": null,
      "metadata": {
        "id": "puUXKwHPjEM5",
        "outputId": "515f58a5-a226-4c5c-b0c4-c0cf866aeb85"
      },
      "outputs": [
        {
          "data": {
            "text/plain": [
              "Ano\n",
              "2016    694079\n",
              "2015    116024\n",
              "Name: count, dtype: int64"
            ]
          },
          "execution_count": 259,
          "metadata": {},
          "output_type": "execute_result"
        }
      ],
      "source": [
        "#valores da coluna ano\n",
        "\n",
        "df[\"Ano\"].value_counts()"
      ]
    },
    {
      "cell_type": "markdown",
      "metadata": {
        "id": "I7bty0dCjEM5"
      },
      "source": [
        "## Conferindo de forma decrescente os valores unicos referente a esta pesquisa\n",
        "coluna DescricaoEstado"
      ]
    },
    {
      "cell_type": "code",
      "execution_count": null,
      "metadata": {
        "id": "w107k9RRjEM5",
        "outputId": "60ec842a-0a90-41d3-9a71-dc105fb4db02"
      },
      "outputs": [
        {
          "data": {
            "text/plain": [
              "DescricaoEstado\n",
              "California       156778\n",
              "Texas             89422\n",
              "New York          70133\n",
              "Florida           39025\n",
              "Illinois          37458\n",
              "Arizona           29678\n",
              "Ohio              24111\n",
              "North Carolin     23305\n",
              "Michigan          21672\n",
              "Colorado          20549\n",
              "Pennsylvania      18392\n",
              "Washington        15448\n",
              "Tennessee         15299\n",
              "Indiana           15281\n",
              "Virginia          14630\n",
              "Massachusetts     14346\n",
              "Oklahoma          13532\n",
              "Georgia           13251\n",
              "Missouri          13028\n",
              "Wisconsin         11849\n",
              "Louisiana         10875\n",
              "Nevada            10639\n",
              "Alabama           10593\n",
              "Oregon            10402\n",
              "Minnesota          9123\n",
              "New Jersey         9013\n",
              "Kansas             8913\n",
              "Kentucky           7527\n",
              "Utah               7431\n",
              "Hawaii             6721\n",
              "Connecticut        6603\n",
              "New Mexico         6273\n",
              "Nebraska           6216\n",
              "Iowa               5889\n",
              "Maryland           5655\n",
              "South Carolin      5131\n",
              "District of C      5065\n",
              "Arkansas           3679\n",
              "Rhode Island       2993\n",
              "Mississippi        2229\n",
              "Idaho              2070\n",
              "South Dakota       1760\n",
              "Alaska             1596\n",
              "New Hampshire      1428\n",
              "Montana            1340\n",
              "North Dakota        756\n",
              "Delaware            728\n",
              "West Virginia       728\n",
              "Maine               616\n",
              "Wyoming             504\n",
              "Vermont             364\n",
              "United States        56\n",
              "Name: count, dtype: int64"
            ]
          },
          "execution_count": 260,
          "metadata": {},
          "output_type": "execute_result"
        }
      ],
      "source": [
        "#contagem de estados\n",
        "dfestados=df[\"DescricaoEstado\"].value_counts()\n",
        "dfestados"
      ]
    },
    {
      "cell_type": "markdown",
      "metadata": {
        "id": "KpIZS24HjEM5"
      },
      "source": [
        "## Agrupando os 20 estados mais relevantes nesta pesquisa"
      ]
    },
    {
      "cell_type": "code",
      "execution_count": null,
      "metadata": {
        "id": "NgczLZ1KjEM6",
        "outputId": "13f64287-5567-4a76-b19b-2c9fbf82e969"
      },
      "outputs": [
        {
          "data": {
            "text/plain": [
              "DescricaoEstado\n",
              "California       156778\n",
              "Texas             89422\n",
              "New York          70133\n",
              "Florida           39025\n",
              "Illinois          37458\n",
              "Arizona           29678\n",
              "Ohio              24111\n",
              "North Carolin     23305\n",
              "Michigan          21672\n",
              "Colorado          20549\n",
              "Pennsylvania      18392\n",
              "Washington        15448\n",
              "Tennessee         15299\n",
              "Indiana           15281\n",
              "Virginia          14630\n",
              "Massachusetts     14346\n",
              "Oklahoma          13532\n",
              "Georgia           13251\n",
              "Missouri          13028\n",
              "Wisconsin         11849\n",
              "Name: count, dtype: int64"
            ]
          },
          "execution_count": 261,
          "metadata": {},
          "output_type": "execute_result"
        }
      ],
      "source": [
        "\n",
        "\n",
        "df_estados=dfestados.head(20)\n",
        "df_estados\n"
      ]
    },
    {
      "cell_type": "markdown",
      "metadata": {
        "id": "zDxvIqu0jEM6"
      },
      "source": [
        "## Gráfico referente aos estados com mais destaque nesta pesquisa\n",
        "#### usando a variavel agrupada anteriormente juntamente a biblioteca matplotlib"
      ]
    },
    {
      "cell_type": "code",
      "execution_count": null,
      "metadata": {
        "id": "YzVCP-D0jEM6",
        "outputId": "afc8f137-5e27-439f-ffb8-4754c13c9b93"
      },
      "outputs": [
        {
          "data": {
            "image/png": "[encoded data removed]",
            "text/plain": [
              "<Figure size 900x400 with 1 Axes>"
            ]
          },
          "metadata": {},
          "output_type": "display_data"
        }
      ],
      "source": [
        "\n",
        "\n",
        "df_estados.plot(kind=\"barh\", color=\"Skyblue\", figsize=(9,4))\n",
        "plt.title(\"Estados com mais individuos nesta pesquisa\")\n",
        "plt.tight_layout()\n",
        "plt.show()"
      ]
    },
    {
      "cell_type": "markdown",
      "metadata": {
        "id": "Qcmo9loPjEM6"
      },
      "source": [
        "# Conceito da criação de doi gráficos em uma célula de código\n",
        "grafico incompleto, essa parte do codigo é apenas para o conceito"
      ]
    },
    {
      "cell_type": "markdown",
      "metadata": {
        "id": "c9zd4j1bjEM6"
      },
      "source": [
        "### Criando mais duas tabelas, casos gerais de 2015 e 2016\n",
        "#### Filtrando os casos gerais de 2015 e 2016 e mantendo as colunas \"Ano\", \"Medida\" e \"DescricaoEstado\""
      ]
    },
    {
      "cell_type": "code",
      "execution_count": null,
      "metadata": {
        "id": "s7C6LQ1ljEM6"
      },
      "outputs": [],
      "source": [
        "\n",
        "casosgerais = df.loc[df[\"Ano\"].isin([2015, 2016]), [\"Ano\", \"DescricaoEstado\", \"Medida\"]]\n",
        "casosgerais2015=casosgerais.loc[casosgerais[\"Ano\"]==2015]\n",
        "casosgerais2016=casosgerais.loc[casosgerais[\"Ano\"]==2016]\n"
      ]
    },
    {
      "cell_type": "markdown",
      "metadata": {
        "id": "91OXzM5jjEM6"
      },
      "source": [
        "### Verificando as tabelas filtradas"
      ]
    },
    {
      "cell_type": "code",
      "execution_count": null,
      "metadata": {
        "id": "PCXJuXuvjEM6",
        "outputId": "27b89034-3cc7-400a-ee54-7049659e716c"
      },
      "outputs": [
        {
          "data": {
            "text/html": [
              "<div>\n",
              "<style scoped>\n",
              "    .dataframe tbody tr th:only-of-type {\n",
              "        vertical-align: middle;\n",
              "    }\n",
              "\n",
              "    .dataframe tbody tr th {\n",
              "        vertical-align: top;\n",
              "    }\n",
              "\n",
              "    .dataframe thead th {\n",
              "        text-align: right;\n",
              "    }\n",
              "</style>\n",
              "<table border=\"1\" class=\"dataframe\">\n",
              "  <thead>\n",
              "    <tr style=\"text-align: right;\">\n",
              "      <th></th>\n",
              "      <th>Ano</th>\n",
              "      <th>DescricaoEstado</th>\n",
              "      <th>Medida</th>\n",
              "    </tr>\n",
              "  </thead>\n",
              "  <tbody>\n",
              "    <tr>\n",
              "      <th>0</th>\n",
              "      <td>2015</td>\n",
              "      <td>Indiana</td>\n",
              "      <td>High blood pressure among adults aged &gt;=18 Years</td>\n",
              "    </tr>\n",
              "    <tr>\n",
              "      <th>1</th>\n",
              "      <td>2015</td>\n",
              "      <td>California</td>\n",
              "      <td>High blood pressure among adults aged &gt;=18 Years</td>\n",
              "    </tr>\n",
              "    <tr>\n",
              "      <th>2</th>\n",
              "      <td>2015</td>\n",
              "      <td>Connecticut</td>\n",
              "      <td>High blood pressure among adults aged &gt;=18 Years</td>\n",
              "    </tr>\n",
              "    <tr>\n",
              "      <th>3</th>\n",
              "      <td>2015</td>\n",
              "      <td>California</td>\n",
              "      <td>High blood pressure among adults aged &gt;=18 Years</td>\n",
              "    </tr>\n",
              "    <tr>\n",
              "      <th>4</th>\n",
              "      <td>2015</td>\n",
              "      <td>Florida</td>\n",
              "      <td>Cholesterol screening among adults aged &gt;=18 Y...</td>\n",
              "    </tr>\n",
              "    <tr>\n",
              "      <th>...</th>\n",
              "      <td>...</td>\n",
              "      <td>...</td>\n",
              "      <td>...</td>\n",
              "    </tr>\n",
              "    <tr>\n",
              "      <th>809684</th>\n",
              "      <td>2015</td>\n",
              "      <td>District of C</td>\n",
              "      <td>High blood pressure among adults aged &gt;=18 Years</td>\n",
              "    </tr>\n",
              "    <tr>\n",
              "      <th>809712</th>\n",
              "      <td>2015</td>\n",
              "      <td>North Carolin</td>\n",
              "      <td>Taking medicine for high blood pressure contro...</td>\n",
              "    </tr>\n",
              "    <tr>\n",
              "      <th>809895</th>\n",
              "      <td>2015</td>\n",
              "      <td>North Carolin</td>\n",
              "      <td>Cholesterol screening among adults aged &gt;=18 Y...</td>\n",
              "    </tr>\n",
              "    <tr>\n",
              "      <th>810021</th>\n",
              "      <td>2015</td>\n",
              "      <td>North Carolin</td>\n",
              "      <td>High blood pressure among adults aged &gt;=18 Years</td>\n",
              "    </tr>\n",
              "    <tr>\n",
              "      <th>810033</th>\n",
              "      <td>2015</td>\n",
              "      <td>North Carolin</td>\n",
              "      <td>High cholesterol among adults aged &gt;=18 Years ...</td>\n",
              "    </tr>\n",
              "  </tbody>\n",
              "</table>\n",
              "<p>116024 rows × 3 columns</p>\n",
              "</div>"
            ],
            "text/plain": [
              "         Ano DescricaoEstado  \\\n",
              "0       2015         Indiana   \n",
              "1       2015      California   \n",
              "2       2015     Connecticut   \n",
              "3       2015      California   \n",
              "4       2015         Florida   \n",
              "...      ...             ...   \n",
              "809684  2015   District of C   \n",
              "809712  2015   North Carolin   \n",
              "809895  2015   North Carolin   \n",
              "810021  2015   North Carolin   \n",
              "810033  2015   North Carolin   \n",
              "\n",
              "                                                   Medida  \n",
              "0        High blood pressure among adults aged >=18 Years  \n",
              "1        High blood pressure among adults aged >=18 Years  \n",
              "2        High blood pressure among adults aged >=18 Years  \n",
              "3        High blood pressure among adults aged >=18 Years  \n",
              "4       Cholesterol screening among adults aged >=18 Y...  \n",
              "...                                                   ...  \n",
              "809684   High blood pressure among adults aged >=18 Years  \n",
              "809712  Taking medicine for high blood pressure contro...  \n",
              "809895  Cholesterol screening among adults aged >=18 Y...  \n",
              "810021   High blood pressure among adults aged >=18 Years  \n",
              "810033  High cholesterol among adults aged >=18 Years ...  \n",
              "\n",
              "[116024 rows x 3 columns]"
            ]
          },
          "metadata": {},
          "output_type": "display_data"
        }
      ],
      "source": [
        "display(casosgerais2015)"
      ]
    },
    {
      "cell_type": "code",
      "execution_count": null,
      "metadata": {
        "id": "OVkystcXjEM6",
        "outputId": "3cb2d781-a44c-4567-8494-4a3033ad0251"
      },
      "outputs": [
        {
          "data": {
            "text/html": [
              "<div>\n",
              "<style scoped>\n",
              "    .dataframe tbody tr th:only-of-type {\n",
              "        vertical-align: middle;\n",
              "    }\n",
              "\n",
              "    .dataframe tbody tr th {\n",
              "        vertical-align: top;\n",
              "    }\n",
              "\n",
              "    .dataframe thead th {\n",
              "        text-align: right;\n",
              "    }\n",
              "</style>\n",
              "<table border=\"1\" class=\"dataframe\">\n",
              "  <thead>\n",
              "    <tr style=\"text-align: right;\">\n",
              "      <th></th>\n",
              "      <th>Ano</th>\n",
              "      <th>DescricaoEstado</th>\n",
              "      <th>Medida</th>\n",
              "    </tr>\n",
              "  </thead>\n",
              "  <tbody>\n",
              "    <tr>\n",
              "      <th>6</th>\n",
              "      <td>2016</td>\n",
              "      <td>Illinois</td>\n",
              "      <td>Arthritis among adults aged &gt;=18 Years</td>\n",
              "    </tr>\n",
              "    <tr>\n",
              "      <th>8</th>\n",
              "      <td>2016</td>\n",
              "      <td>Alabama</td>\n",
              "      <td>Arthritis among adults aged &gt;=18 Years</td>\n",
              "    </tr>\n",
              "    <tr>\n",
              "      <th>9</th>\n",
              "      <td>2016</td>\n",
              "      <td>Florida</td>\n",
              "      <td>Stroke among adults aged &gt;=18 Years</td>\n",
              "    </tr>\n",
              "    <tr>\n",
              "      <th>10</th>\n",
              "      <td>2016</td>\n",
              "      <td>Indiana</td>\n",
              "      <td>Obesity among adults aged &gt;=18 Years</td>\n",
              "    </tr>\n",
              "    <tr>\n",
              "      <th>13</th>\n",
              "      <td>2016</td>\n",
              "      <td>Texas</td>\n",
              "      <td>Mammography use among women aged 50–74 Years</td>\n",
              "    </tr>\n",
              "    <tr>\n",
              "      <th>...</th>\n",
              "      <td>...</td>\n",
              "      <td>...</td>\n",
              "      <td>...</td>\n",
              "    </tr>\n",
              "    <tr>\n",
              "      <th>810098</th>\n",
              "      <td>2016</td>\n",
              "      <td>California</td>\n",
              "      <td>Binge drinking among adults aged &gt;=18 Years</td>\n",
              "    </tr>\n",
              "    <tr>\n",
              "      <th>810099</th>\n",
              "      <td>2016</td>\n",
              "      <td>California</td>\n",
              "      <td>Current smoking among adults aged &gt;=18 Years</td>\n",
              "    </tr>\n",
              "    <tr>\n",
              "      <th>810100</th>\n",
              "      <td>2016</td>\n",
              "      <td>Hawaii</td>\n",
              "      <td>Coronary heart disease among adults aged &gt;=18 ...</td>\n",
              "    </tr>\n",
              "    <tr>\n",
              "      <th>810101</th>\n",
              "      <td>2016</td>\n",
              "      <td>California</td>\n",
              "      <td>Mental health not good for &gt;=14 days among adu...</td>\n",
              "    </tr>\n",
              "    <tr>\n",
              "      <th>810102</th>\n",
              "      <td>2016</td>\n",
              "      <td>Texas</td>\n",
              "      <td>All teeth lost among adults aged &gt;=65 Years</td>\n",
              "    </tr>\n",
              "  </tbody>\n",
              "</table>\n",
              "<p>694079 rows × 3 columns</p>\n",
              "</div>"
            ],
            "text/plain": [
              "         Ano DescricaoEstado  \\\n",
              "6       2016        Illinois   \n",
              "8       2016         Alabama   \n",
              "9       2016         Florida   \n",
              "10      2016         Indiana   \n",
              "13      2016           Texas   \n",
              "...      ...             ...   \n",
              "810098  2016      California   \n",
              "810099  2016      California   \n",
              "810100  2016          Hawaii   \n",
              "810101  2016      California   \n",
              "810102  2016           Texas   \n",
              "\n",
              "                                                   Medida  \n",
              "6                  Arthritis among adults aged >=18 Years  \n",
              "8                  Arthritis among adults aged >=18 Years  \n",
              "9                     Stroke among adults aged >=18 Years  \n",
              "10                   Obesity among adults aged >=18 Years  \n",
              "13           Mammography use among women aged 50–74 Years  \n",
              "...                                                   ...  \n",
              "810098        Binge drinking among adults aged >=18 Years  \n",
              "810099       Current smoking among adults aged >=18 Years  \n",
              "810100  Coronary heart disease among adults aged >=18 ...  \n",
              "810101  Mental health not good for >=14 days among adu...  \n",
              "810102        All teeth lost among adults aged >=65 Years  \n",
              "\n",
              "[694079 rows x 3 columns]"
            ]
          },
          "metadata": {},
          "output_type": "display_data"
        }
      ],
      "source": [
        "display(casosgerais2016)"
      ]
    },
    {
      "cell_type": "code",
      "execution_count": null,
      "metadata": {
        "id": "zsZIkE79jEM7",
        "outputId": "b66947ac-f1b3-4230-a1a1-28270f3fd5c4"
      },
      "outputs": [
        {
          "data": {
            "text/html": [
              "<div>\n",
              "<style scoped>\n",
              "    .dataframe tbody tr th:only-of-type {\n",
              "        vertical-align: middle;\n",
              "    }\n",
              "\n",
              "    .dataframe tbody tr th {\n",
              "        vertical-align: top;\n",
              "    }\n",
              "\n",
              "    .dataframe thead th {\n",
              "        text-align: right;\n",
              "    }\n",
              "</style>\n",
              "<table border=\"1\" class=\"dataframe\">\n",
              "  <thead>\n",
              "    <tr style=\"text-align: right;\">\n",
              "      <th></th>\n",
              "      <th>Ano</th>\n",
              "      <th>DescricaoEstado</th>\n",
              "      <th>Medida</th>\n",
              "    </tr>\n",
              "  </thead>\n",
              "  <tbody>\n",
              "    <tr>\n",
              "      <th>0</th>\n",
              "      <td>2015</td>\n",
              "      <td>Indiana</td>\n",
              "      <td>High blood pressure among adults aged &gt;=18 Years</td>\n",
              "    </tr>\n",
              "    <tr>\n",
              "      <th>1</th>\n",
              "      <td>2015</td>\n",
              "      <td>California</td>\n",
              "      <td>High blood pressure among adults aged &gt;=18 Years</td>\n",
              "    </tr>\n",
              "    <tr>\n",
              "      <th>2</th>\n",
              "      <td>2015</td>\n",
              "      <td>Connecticut</td>\n",
              "      <td>High blood pressure among adults aged &gt;=18 Years</td>\n",
              "    </tr>\n",
              "    <tr>\n",
              "      <th>3</th>\n",
              "      <td>2015</td>\n",
              "      <td>California</td>\n",
              "      <td>High blood pressure among adults aged &gt;=18 Years</td>\n",
              "    </tr>\n",
              "    <tr>\n",
              "      <th>4</th>\n",
              "      <td>2015</td>\n",
              "      <td>Florida</td>\n",
              "      <td>Cholesterol screening among adults aged &gt;=18 Y...</td>\n",
              "    </tr>\n",
              "    <tr>\n",
              "      <th>...</th>\n",
              "      <td>...</td>\n",
              "      <td>...</td>\n",
              "      <td>...</td>\n",
              "    </tr>\n",
              "    <tr>\n",
              "      <th>810098</th>\n",
              "      <td>2016</td>\n",
              "      <td>California</td>\n",
              "      <td>Binge drinking among adults aged &gt;=18 Years</td>\n",
              "    </tr>\n",
              "    <tr>\n",
              "      <th>810099</th>\n",
              "      <td>2016</td>\n",
              "      <td>California</td>\n",
              "      <td>Current smoking among adults aged &gt;=18 Years</td>\n",
              "    </tr>\n",
              "    <tr>\n",
              "      <th>810100</th>\n",
              "      <td>2016</td>\n",
              "      <td>Hawaii</td>\n",
              "      <td>Coronary heart disease among adults aged &gt;=18 ...</td>\n",
              "    </tr>\n",
              "    <tr>\n",
              "      <th>810101</th>\n",
              "      <td>2016</td>\n",
              "      <td>California</td>\n",
              "      <td>Mental health not good for &gt;=14 days among adu...</td>\n",
              "    </tr>\n",
              "    <tr>\n",
              "      <th>810102</th>\n",
              "      <td>2016</td>\n",
              "      <td>Texas</td>\n",
              "      <td>All teeth lost among adults aged &gt;=65 Years</td>\n",
              "    </tr>\n",
              "  </tbody>\n",
              "</table>\n",
              "<p>810103 rows × 3 columns</p>\n",
              "</div>"
            ],
            "text/plain": [
              "         Ano DescricaoEstado  \\\n",
              "0       2015         Indiana   \n",
              "1       2015      California   \n",
              "2       2015     Connecticut   \n",
              "3       2015      California   \n",
              "4       2015         Florida   \n",
              "...      ...             ...   \n",
              "810098  2016      California   \n",
              "810099  2016      California   \n",
              "810100  2016          Hawaii   \n",
              "810101  2016      California   \n",
              "810102  2016           Texas   \n",
              "\n",
              "                                                   Medida  \n",
              "0        High blood pressure among adults aged >=18 Years  \n",
              "1        High blood pressure among adults aged >=18 Years  \n",
              "2        High blood pressure among adults aged >=18 Years  \n",
              "3        High blood pressure among adults aged >=18 Years  \n",
              "4       Cholesterol screening among adults aged >=18 Y...  \n",
              "...                                                   ...  \n",
              "810098        Binge drinking among adults aged >=18 Years  \n",
              "810099       Current smoking among adults aged >=18 Years  \n",
              "810100  Coronary heart disease among adults aged >=18 ...  \n",
              "810101  Mental health not good for >=14 days among adu...  \n",
              "810102        All teeth lost among adults aged >=65 Years  \n",
              "\n",
              "[810103 rows x 3 columns]"
            ]
          },
          "metadata": {},
          "output_type": "display_data"
        }
      ],
      "source": [
        "display(casosgerais)"
      ]
    },
    {
      "cell_type": "markdown",
      "metadata": {
        "id": "7QhRtUMSjEM7"
      },
      "source": [
        "## Criando novas váriaveis\n"
      ]
    },
    {
      "cell_type": "code",
      "execution_count": null,
      "metadata": {
        "id": "8qVzKqLijEM7"
      },
      "outputs": [],
      "source": [
        "CASOSGERAIS2015=casosgerais2015\n",
        "CASOSGERAIS2016=casosgerais2016\n",
        "CASOSGERAIS=casosgerais\n",
        "\n",
        "\n"
      ]
    },
    {
      "cell_type": "markdown",
      "metadata": {
        "id": "ga1MQrdujEM7"
      },
      "source": [
        "## CONCEITO de grafico lado a lado\n",
        "Alternando para 2,1 deixa o grafico em cima e embaixo"
      ]
    },
    {
      "cell_type": "code",
      "execution_count": null,
      "metadata": {
        "id": "v4wOK5rFjEM7",
        "outputId": "27f65b98-2a62-4b10-f006-c99180087204"
      },
      "outputs": [
        {
          "data": {
            "image/png": "[encoded data removed]",
            "text/plain": [
              "<Figure size 1400x500 with 2 Axes>"
            ]
          },
          "metadata": {},
          "output_type": "display_data"
        }
      ],
      "source": [
        "#fazendo um grafico lado a lado\n",
        "fig, (ax1, ax2)=plt.subplots(1,2, figsize=(14,5))\n",
        "CASOSGERAIS2015.plot(kind=\"hist\", color=\"Skyblue\",ax=ax1)\n",
        "ax1.set_title(\"20 Estados com mais casos gerais em 2015\")\n",
        "ax1.set_xlabel(\"Ano\")\n",
        "\n",
        "\n",
        "CASOSGERAIS2016.plot(kind=\"hist\", color=\"purple\",ax=ax2)\n",
        "ax2.set_title(\"20 Estados com mais casos gerais em 2016\")\n",
        "ax2.set_xlabel(\"Ano\")\n",
        "\n",
        "\n",
        "plt.tight_layout()\n",
        "plt.show()"
      ]
    },
    {
      "cell_type": "markdown",
      "metadata": {
        "id": "sTyCZfOgjEM7"
      },
      "source": [
        "## Verificando a quantidade de casos por ano nos Estados Americanos"
      ]
    },
    {
      "cell_type": "code",
      "execution_count": null,
      "metadata": {
        "id": "et__adW5jEM7",
        "outputId": "b187ad1f-50d3-4de3-bc5b-6e14ae8b4b91"
      },
      "outputs": [
        {
          "data": {
            "text/plain": [
              "Ano\n",
              "2016    694079\n",
              "2015    116024\n",
              "Name: count, dtype: int64"
            ]
          },
          "execution_count": 269,
          "metadata": {},
          "output_type": "execute_result"
        }
      ],
      "source": [
        "#contagem de valores na variavel estadoscasos\n",
        "\n",
        "ESTADOSCASOS=df[\"Ano\"].value_counts()\n",
        "ESTADOSCASOS"
      ]
    },
    {
      "cell_type": "markdown",
      "metadata": {
        "id": "Fw87MCHEjEM7"
      },
      "source": [
        "## comparando casos de 2015 e 2016 através de um gráfico"
      ]
    },
    {
      "cell_type": "code",
      "execution_count": null,
      "metadata": {
        "id": "EFhLYGbJjEM7",
        "outputId": "b56a46af-0634-4392-ef41-e64000479844"
      },
      "outputs": [
        {
          "data": {
            "image/png": "[encoded data removed]",
            "text/plain": [
              "<Figure size 900x400 with 1 Axes>"
            ]
          },
          "metadata": {},
          "output_type": "display_data"
        }
      ],
      "source": [
        "\n",
        "#COMPARANDO OS CASOS DE 2015 E 2016\n",
        "ESTADOSCASOS.plot(kind=\"barh\", color=\"Skyblue\", figsize=(9,4))\n",
        "plt.title(\"Comparação de casos entre os anos de 2015 e 2016\")\n",
        "plt.tight_layout()\n",
        "plt.xticks(rotation=360)\n",
        "plt.show()\n",
        "\n"
      ]
    },
    {
      "cell_type": "markdown",
      "metadata": {
        "id": "EPpEvUNKjEM7"
      },
      "source": [
        "## comparar as tendências temporais da taxa de pressão alta e triagem de colesterol ao longo dos anos.\n",
        "#### (\"High blood pressure among adults aged >=18 Years \",\"Cholesterol screening among adults aged >=18 Years ) na pesquisa"
      ]
    },
    {
      "cell_type": "markdown",
      "metadata": {
        "id": "pVx1288qjEM8"
      },
      "source": [
        "# Verificando quais são os motivos dos  casos e selecionando os 2 primeiros para uma analise brevia\n"
      ]
    },
    {
      "cell_type": "code",
      "execution_count": null,
      "metadata": {
        "id": "yduKGUmdjEM8",
        "outputId": "f6baa8be-bd7b-49e5-c257-f59d9eec0715"
      },
      "outputs": [
        {
          "data": {
            "text/plain": [
              "Medida\n",
              "High blood pressure among adults aged >=18 Years                                                                                                                                                  29006\n",
              "Cholesterol screening among adults aged >=18 Years                                                                                                                                                29006\n",
              "Arthritis among adults aged >=18 Years                                                                                                                                                            29006\n",
              "Stroke among adults aged >=18 Years                                                                                                                                                               29006\n",
              "Obesity among adults aged >=18 Years                                                                                                                                                              29006\n",
              "Diagnosed diabetes among adults aged >=18 Years                                                                                                                                                   29006\n",
              "Cancer (excluding skin cancer) among adults aged >=18 Years                                                                                                                                       29006\n",
              "Binge drinking among adults aged >=18 Years                                                                                                                                                       29006\n",
              "Mental health not good for >=14 days among adults aged >=18 Years                                                                                                                                 29006\n",
              "Chronic obstructive pulmonary disease among adults aged >=18 Years                                                                                                                                29006\n",
              "Coronary heart disease among adults aged >=18 Years                                                                                                                                               29006\n",
              "Current smoking among adults aged >=18 Years                                                                                                                                                      29006\n",
              "No leisure-time physical activity among adults aged >=18 Years                                                                                                                                    29006\n",
              "Physical health not good for >=14 days among adults aged >=18 Years                                                                                                                               29006\n",
              "Current asthma among adults aged >=18 Years                                                                                                                                                       29006\n",
              "Sleeping less than 7 hours among adults aged >=18 Years                                                                                                                                           29006\n",
              "Chronic kidney disease among adults aged >=18 Years                                                                                                                                               29006\n",
              "Visits to dentist or dental clinic among adults aged >=18 Years                                                                                                                                   29006\n",
              "High cholesterol among adults aged >=18 Years who have been screened in the past 5 Years                                                                                                          29006\n",
              "Taking medicine for high blood pressure control among adults aged >=18 Years with high blood pressure                                                                                             29006\n",
              "Visits to doctor for routine checkup within the past Year among adults aged >=18 Years                                                                                                            29006\n",
              "Current lack of health insurance among adults aged 18–64 Years                                                                                                                                    28973\n",
              "Papanicolaou smear use among adult women aged 21–65 Years                                                                                                                                         28912\n",
              "Fecal occult blood test, sigmoidoscopy, or colonoscopy among adults aged 50–75 Years                                                                                                              28847\n",
              "Mammography use among women aged 50–74 Years                                                                                                                                                      28727\n",
              "All teeth lost among adults aged >=65 Years                                                                                                                                                       28601\n",
              "Older adult men aged >=65 Years who are up to date on a core set of clinical preventive services: Flu shot past Year, PPV shot ever, Colorectal cancer screening                                  28464\n",
              "Older adult women aged >=65 Years who are up to date on a core set of clinical preventive services: Flu shot past Year, PPV shot ever, Colorectal cancer screening, and Mammogram past 2 Years    28453\n",
              "Name: count, dtype: int64"
            ]
          },
          "execution_count": 271,
          "metadata": {},
          "output_type": "execute_result"
        }
      ],
      "source": [
        "contagem=df[\"Medida\"].value_counts()\n",
        "contagem.head(50)"
      ]
    },
    {
      "cell_type": "markdown",
      "metadata": {
        "id": "iF-c-RJAjEM8"
      },
      "source": [
        "Essa parte do codigo é responsavel por filtrar na coluna medida os motivos selecionados"
      ]
    },
    {
      "cell_type": "code",
      "execution_count": null,
      "metadata": {
        "id": "Ofn1zb23jEM8"
      },
      "outputs": [],
      "source": [
        "\n",
        "\n",
        "dffiltro=df[df[\"Medida\"].isin([\"High blood pressure among adults aged >=18 Years \",\"Cholesterol screening among adults aged >=18 Years \"])]"
      ]
    },
    {
      "cell_type": "markdown",
      "metadata": {
        "id": "DA129h_ljEM8"
      },
      "source": [
        "## Criando uma nova planilha e criando uma nova colunas contendo os valores para a pesquisa\n",
        "\n",
        "Porém como da para ver, os dados estão vazios"
      ]
    },
    {
      "cell_type": "code",
      "execution_count": null,
      "metadata": {
        "id": "P9MOkxopjEM8",
        "outputId": "4fddff47-698f-47d0-b2ff-d165af5c2095"
      },
      "outputs": [
        {
          "data": {
            "text/html": [
              "<div>\n",
              "<style scoped>\n",
              "    .dataframe tbody tr th:only-of-type {\n",
              "        vertical-align: middle;\n",
              "    }\n",
              "\n",
              "    .dataframe tbody tr th {\n",
              "        vertical-align: top;\n",
              "    }\n",
              "\n",
              "    .dataframe thead th {\n",
              "        text-align: right;\n",
              "    }\n",
              "</style>\n",
              "<table border=\"1\" class=\"dataframe\">\n",
              "  <thead>\n",
              "    <tr style=\"text-align: right;\">\n",
              "      <th></th>\n",
              "      <th>Ano</th>\n",
              "      <th>Medida</th>\n",
              "      <th>Data_Value</th>\n",
              "    </tr>\n",
              "  </thead>\n",
              "  <tbody>\n",
              "  </tbody>\n",
              "</table>\n",
              "</div>"
            ],
            "text/plain": [
              "Empty DataFrame\n",
              "Columns: [Ano, Medida, Data_Value]\n",
              "Index: []"
            ]
          },
          "execution_count": 273,
          "metadata": {},
          "output_type": "execute_result"
        }
      ],
      "source": [
        "\n",
        "df_grouped = dffiltro.groupby(['Ano', 'Medida'])['Data_Value'].mean().reset_index()\n",
        "df_grouped"
      ]
    },
    {
      "cell_type": "markdown",
      "metadata": {
        "id": "GkYDILpXjEM8"
      },
      "source": [
        "## Analisando os motivos\n",
        "como essa linha de codigo conseguimos ver que existem espaços vazios, e por isso está dando como vazio"
      ]
    },
    {
      "cell_type": "code",
      "execution_count": null,
      "metadata": {
        "id": "V1ctCzS_jEM8",
        "outputId": "543d2a1d-3b80-4c16-8904-c78cba5d65ba"
      },
      "outputs": [
        {
          "name": "stdout",
          "output_type": "stream",
          "text": [
            "['High blood pressure among adults aged >=18 Years'\n",
            " 'Cholesterol screening among adults aged >=18 Years'\n",
            " 'Arthritis among adults aged >=18 Years'\n",
            " 'Stroke among adults aged >=18 Years'\n",
            " 'Obesity among adults aged >=18 Years'\n",
            " 'Mammography use among women aged 50–74 Years'\n",
            " 'All teeth lost among adults aged >=65 Years'\n",
            " 'Diagnosed diabetes among adults aged >=18 Years'\n",
            " 'Binge drinking among adults aged >=18 Years'\n",
            " 'Cancer (excluding skin cancer) among adults aged >=18 Years'\n",
            " 'Mental health not good for >=14 days among adults aged >=18 Years'\n",
            " 'Chronic obstructive pulmonary disease among adults aged >=18 Years'\n",
            " 'Current smoking among adults aged >=18 Years'\n",
            " 'Coronary heart disease among adults aged >=18 Years'\n",
            " 'Papanicolaou smear use among adult women aged 21–65 Years'\n",
            " 'Current asthma among adults aged >=18 Years'\n",
            " 'Sleeping less than 7 hours among adults aged >=18 Years'\n",
            " 'Visits to dentist or dental clinic among adults aged >=18 Years'\n",
            " 'Chronic kidney disease among adults aged >=18 Years'\n",
            " 'Current lack of health insurance among adults aged 18–64 Years'\n",
            " 'Taking medicine for high blood pressure control among adults aged >=18 Years with high blood pressure'\n",
            " 'High cholesterol among adults aged >=18 Years who have been screened in the past 5 Years'\n",
            " 'Visits to doctor for routine checkup within the past Year among adults aged >=18 Years'\n",
            " 'Older adult women aged >=65 Years who are up to date on a core set of clinical preventive services: Flu shot past Year, PPV shot ever, Colorectal cancer screening, and Mammogram past 2 Years'\n",
            " 'Physical health not good for >=14 days among adults aged >=18 Years'\n",
            " 'Fecal occult blood test, sigmoidoscopy, or colonoscopy among adults aged 50–75 Years'\n",
            " 'Older adult men aged >=65 Years who are up to date on a core set of clinical preventive services: Flu shot past Year, PPV shot ever, Colorectal cancer screening'\n",
            " 'No leisure-time physical activity among adults aged >=18 Years']\n"
          ]
        }
      ],
      "source": [
        "#escrever o nome dos valores unicos de df\n",
        "#se reapara que tem valores em branco\n",
        "print(df[\"Medida\"].unique())"
      ]
    },
    {
      "cell_type": "markdown",
      "metadata": {
        "id": "Ng5N57kwjEM8"
      },
      "source": [
        "# Tipo simples de tratamento de dados\n",
        "## O Metodo str.strip remove os espaços vazios de uma string\n",
        "O Metodo isin da um true para cada item no filtro, assim realizando a filtragem"
      ]
    },
    {
      "cell_type": "code",
      "execution_count": null,
      "metadata": {
        "id": "KMIHJyoGjEM9"
      },
      "outputs": [],
      "source": [
        "#o metodo strip reemove espaços em branco\n",
        "#e o isin da um true para cada linha que conter o especificado\n",
        "#tipo simples de tratamento de dados\n",
        "dffiltro = df[df[\"Medida\"].str.strip().isin([\n",
        "    \"High blood pressure among adults aged >=18 Years\",\n",
        "    \"Cholesterol screening among adults aged >=18 Years\"\n",
        "])]\n"
      ]
    },
    {
      "cell_type": "markdown",
      "metadata": {
        "id": "_UWOoVAijEM_"
      },
      "source": [
        "## Verificando os dados filtrados para 2015"
      ]
    },
    {
      "cell_type": "code",
      "execution_count": null,
      "metadata": {
        "id": "0mIi0AG0jEM_",
        "outputId": "6301e289-dde2-4060-8809-0878855201d6"
      },
      "outputs": [
        {
          "data": {
            "text/plain": [
              "Medida\n",
              "High blood pressure among adults aged >=18 Years      29006\n",
              "Cholesterol screening among adults aged >=18 Years    29006\n",
              "Name: count, dtype: int64"
            ]
          },
          "execution_count": 276,
          "metadata": {},
          "output_type": "execute_result"
        }
      ],
      "source": [
        "\n",
        "dffiltro[dffiltro[\"Ano\"] == 2015][\"Medida\"].value_counts()\n"
      ]
    },
    {
      "cell_type": "markdown",
      "metadata": {
        "id": "HON7R8w8jEM_"
      },
      "source": [
        "## Verificando os dados filtrados para 2016\n",
        "como da para ver, não temos casos em 2016"
      ]
    },
    {
      "cell_type": "code",
      "execution_count": null,
      "metadata": {
        "id": "DxFUa4AyjEM_",
        "outputId": "b536542b-0d76-4cae-e7f9-f741e97a80d0"
      },
      "outputs": [
        {
          "data": {
            "text/plain": [
              "Series([], Name: count, dtype: int64)"
            ]
          },
          "execution_count": 277,
          "metadata": {},
          "output_type": "execute_result"
        }
      ],
      "source": [
        "\n",
        "dffiltro[dffiltro[\"Ano\"] == 2016][\"Medida\"].value_counts()\n"
      ]
    },
    {
      "cell_type": "code",
      "execution_count": null,
      "metadata": {
        "id": "9DrDPlptjENA",
        "outputId": "e63db6b2-bb41-4296-cece-2a4ce0a25828"
      },
      "outputs": [
        {
          "name": "stdout",
          "output_type": "stream",
          "text": [
            "Ano\n",
            "2015    58012\n",
            "Name: count, dtype: int64\n"
          ]
        }
      ],
      "source": [
        "print(dffiltro[\"Ano\"].value_counts())"
      ]
    },
    {
      "cell_type": "code",
      "execution_count": null,
      "metadata": {
        "id": "2TzRlOWhjENA",
        "outputId": "a912cd6c-8fa3-4d10-bdfd-3b23ec7411f2"
      },
      "outputs": [
        {
          "name": "stdout",
          "output_type": "stream",
          "text": [
            "Empty DataFrame\n",
            "Columns: [Ano, SiglaEstado, DescricaoEstado, NomeCidade, NivelGeografico, FonteDados, Categoria, IDUnico, Medida, UnidadeValorDados, DataValueTypeID, Data_Value_Type, Data_Value, Low_Confidence_Limit, LimiteSuperiorConfianca, SimboloNotaRodapeDados, NotaRodapeDados, ContagemPopulacional, Geolocalizacao, IDCategoria, IDMedida, FIPSCidade, FIPSTrato, TextoCurtoPergunta]\n",
            "Index: []\n",
            "\n",
            "[0 rows x 24 columns]\n"
          ]
        }
      ],
      "source": [
        "print(df[(df[\"Ano\"] == 2016) & (df[\"Medida\"].isin([\n",
        "    \"High blood pressure among adults aged >=18 Years\",\n",
        "    \"Cholesterol screening among adults aged >=18 Years\"\n",
        "]))])"
      ]
    },
    {
      "cell_type": "markdown",
      "metadata": {
        "id": "Bwu2sXY_jENA"
      },
      "source": [
        "verificando os 50 primeiros para vermos se encontramos um caso de 2015 (basta alternar o numero 50 para um maior para vizualizar mais dados)"
      ]
    },
    {
      "cell_type": "code",
      "execution_count": null,
      "metadata": {
        "id": "LElMGYd0jENA",
        "outputId": "fc438d86-7191-436e-d5b8-724f467f0740"
      },
      "outputs": [
        {
          "data": {
            "text/html": [
              "<div>\n",
              "<style scoped>\n",
              "    .dataframe tbody tr th:only-of-type {\n",
              "        vertical-align: middle;\n",
              "    }\n",
              "\n",
              "    .dataframe tbody tr th {\n",
              "        vertical-align: top;\n",
              "    }\n",
              "\n",
              "    .dataframe thead th {\n",
              "        text-align: right;\n",
              "    }\n",
              "</style>\n",
              "<table border=\"1\" class=\"dataframe\">\n",
              "  <thead>\n",
              "    <tr style=\"text-align: right;\">\n",
              "      <th></th>\n",
              "      <th>Ano</th>\n",
              "      <th>SiglaEstado</th>\n",
              "      <th>DescricaoEstado</th>\n",
              "      <th>NomeCidade</th>\n",
              "      <th>NivelGeografico</th>\n",
              "      <th>FonteDados</th>\n",
              "      <th>Categoria</th>\n",
              "      <th>IDUnico</th>\n",
              "      <th>Medida</th>\n",
              "      <th>UnidadeValorDados</th>\n",
              "      <th>...</th>\n",
              "      <th>LimiteSuperiorConfianca</th>\n",
              "      <th>SimboloNotaRodapeDados</th>\n",
              "      <th>NotaRodapeDados</th>\n",
              "      <th>ContagemPopulacional</th>\n",
              "      <th>Geolocalizacao</th>\n",
              "      <th>IDCategoria</th>\n",
              "      <th>IDMedida</th>\n",
              "      <th>FIPSCidade</th>\n",
              "      <th>FIPSTrato</th>\n",
              "      <th>TextoCurtoPergunta</th>\n",
              "    </tr>\n",
              "  </thead>\n",
              "  <tbody>\n",
              "  </tbody>\n",
              "</table>\n",
              "<p>0 rows × 24 columns</p>\n",
              "</div>"
            ],
            "text/plain": [
              "Empty DataFrame\n",
              "Columns: [Ano, SiglaEstado, DescricaoEstado, NomeCidade, NivelGeografico, FonteDados, Categoria, IDUnico, Medida, UnidadeValorDados, DataValueTypeID, Data_Value_Type, Data_Value, Low_Confidence_Limit, LimiteSuperiorConfianca, SimboloNotaRodapeDados, NotaRodapeDados, ContagemPopulacional, Geolocalizacao, IDCategoria, IDMedida, FIPSCidade, FIPSTrato, TextoCurtoPergunta]\n",
              "Index: []\n",
              "\n",
              "[0 rows x 24 columns]"
            ]
          },
          "metadata": {},
          "output_type": "display_data"
        }
      ],
      "source": [
        "dffiltro_2016 = df.loc[(df[\"Ano\"] == 2016) & (df[\"Medida\"].isin([\n",
        "    \"High blood pressure among adults aged >=18 Years\",\n",
        "    \"Cholesterol screening among adults aged >=18 Years\"\n",
        "]))]\n",
        "display(dffiltro.head(0))"
      ]
    },
    {
      "cell_type": "markdown",
      "metadata": {
        "id": "t2gjcQrvjENA"
      },
      "source": [
        "## Recriando a tabela anterior após ao tratamento de dados e agora com valores"
      ]
    },
    {
      "cell_type": "code",
      "execution_count": null,
      "metadata": {
        "id": "iRFr6_o9jENA",
        "outputId": "d185e312-efd6-4c0c-dcef-ac0a7e1aa460"
      },
      "outputs": [
        {
          "data": {
            "text/html": [
              "<div>\n",
              "<style scoped>\n",
              "    .dataframe tbody tr th:only-of-type {\n",
              "        vertical-align: middle;\n",
              "    }\n",
              "\n",
              "    .dataframe tbody tr th {\n",
              "        vertical-align: top;\n",
              "    }\n",
              "\n",
              "    .dataframe thead th {\n",
              "        text-align: right;\n",
              "    }\n",
              "</style>\n",
              "<table border=\"1\" class=\"dataframe\">\n",
              "  <thead>\n",
              "    <tr style=\"text-align: right;\">\n",
              "      <th></th>\n",
              "      <th>Ano</th>\n",
              "      <th>Medida</th>\n",
              "      <th>Data_Value</th>\n",
              "    </tr>\n",
              "  </thead>\n",
              "  <tbody>\n",
              "    <tr>\n",
              "      <th>0</th>\n",
              "      <td>2015</td>\n",
              "      <td>Cholesterol screening among adults aged &gt;=18 Y...</td>\n",
              "      <td>72.657522</td>\n",
              "    </tr>\n",
              "    <tr>\n",
              "      <th>1</th>\n",
              "      <td>2015</td>\n",
              "      <td>High blood pressure among adults aged &gt;=18 Years</td>\n",
              "      <td>30.491621</td>\n",
              "    </tr>\n",
              "  </tbody>\n",
              "</table>\n",
              "</div>"
            ],
            "text/plain": [
              "    Ano                                             Medida  Data_Value\n",
              "0  2015  Cholesterol screening among adults aged >=18 Y...   72.657522\n",
              "1  2015   High blood pressure among adults aged >=18 Years   30.491621"
            ]
          },
          "execution_count": 281,
          "metadata": {},
          "output_type": "execute_result"
        }
      ],
      "source": [
        "#recriando a tabela anterior após ao tratamento de dados\n",
        "DF_grouped=dffiltro.groupby([\"Ano\", \"Medida\"])[\"Data_Value\"].mean().reset_index()\n",
        "DF_grouped"
      ]
    },
    {
      "cell_type": "markdown",
      "metadata": {
        "id": "DZM4vMcBjENA"
      },
      "source": [
        "Agora com essa tabela é possivel criar uma grafico, em cima, usando o seaborn e omatplot"
      ]
    },
    {
      "cell_type": "code",
      "execution_count": null,
      "metadata": {
        "id": "b9pWtWKHjENA",
        "outputId": "523d8c98-5f22-41f3-d5cb-4166a6b2d7e3"
      },
      "outputs": [
        {
          "data": {
            "image/png": "[encoded data removed]",
            "text/plain": [
              "<Figure size 1000x500 with 1 Axes>"
            ]
          },
          "metadata": {},
          "output_type": "display_data"
        }
      ],
      "source": [
        "import matplotlib.pyplot as plt\n",
        "import seaborn as sns\n",
        "#estabelecendo tamanho da figura\n",
        "plt.figure(figsize=(10, 5))\n",
        "#grafico de barras seaborn (data é de onde vem os dados) x e y estabelecem os eixos\n",
        "#hue='Medida': Cria barras separadas para cada categoria da variável 'Medida', permitindo comparar as médias entre diferentes medidas.\n",
        "sns.barplot(data=DF_grouped, x='Ano', y='Data_Value', hue='Medida')\n",
        "\n",
        "#definição rotulos e configurações visuais do grafico\n",
        "plt.title('Média de Triagem de Colesterol e Pressão Alta (2015 e 2016)')\n",
        "plt.ylabel('Valor Médio (%)')\n",
        "plt.xlabel('Ano')\n",
        "#definindo a legenda\n",
        "plt.legend(title='Medida')\n",
        "#ajusatando o grafico\n",
        "plt.tight_layout()\n",
        "plt.show()\n"
      ]
    }
  ],
  "metadata": {
    "kernelspec": {
      "display_name": "Python 3",
      "language": "python",
      "name": "python3"
    },
    "language_info": {
      "codemirror_mode": {
        "name": "ipython",
        "version": 3
      },
      "file_extension": ".py",
      "mimetype": "text/x-python",
      "name": "python",
      "nbconvert_exporter": "python",
      "pygments_lexer": "ipython3",
      "version": "3.12.6"
    },
    "colab": {
      "provenance": [],
      "include_colab_link": true
    }
  },
  "nbformat": 4,
  "nbformat_minor": 0
}